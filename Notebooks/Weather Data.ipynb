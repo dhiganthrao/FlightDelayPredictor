{
  "nbformat": 4,
  "nbformat_minor": 0,
  "metadata": {
    "colab": {
      "name": "weather_data.ipynb",
      "provenance": [],
      "collapsed_sections": []
    },
    "kernelspec": {
      "name": "python3",
      "display_name": "Python 3"
    }
  },
  "cells": [
    {
      "cell_type": "code",
      "metadata": {
        "id": "_tba75wIRSxk",
        "colab_type": "code",
        "colab": {}
      },
      "source": [
        "from google.colab import drive\n",
        "import numpy as np\n",
        "import pandas as pd\n",
        "from collections import Counter\n",
        "import os\n",
        "import statistics as stats\n",
        "import json\n",
        "from collections import defaultdict"
      ],
      "execution_count": 0,
      "outputs": []
    },
    {
      "cell_type": "code",
      "metadata": {
        "id": "MKj4QuJ2UiXb",
        "colab_type": "code",
        "outputId": "dfa873ff-e903-47b5-d0ea-b9bdd77cf2fc",
        "colab": {
          "base_uri": "https://localhost:8080/",
          "height": 156
        }
      },
      "source": [
        "drive.mount('/content/drive')\n",
        "path = os.getcwd()\n"
      ],
      "execution_count": 0,
      "outputs": [
        {
          "output_type": "stream",
          "text": [
            "Go to this URL in a browser: https://accounts.google.com/o/oauth2/auth?client_id=947318989803-6bn6qk8qdgf4n4g3pfee6491hc0brc4i.apps.googleusercontent.com&redirect_uri=urn%3aietf%3awg%3aoauth%3a2.0%3aoob&response_type=code&scope=email%20https%3a%2f%2fwww.googleapis.com%2fauth%2fdocs.test%20https%3a%2f%2fwww.googleapis.com%2fauth%2fdrive%20https%3a%2f%2fwww.googleapis.com%2fauth%2fdrive.photos.readonly%20https%3a%2f%2fwww.googleapis.com%2fauth%2fpeopleapi.readonly\n",
            "\n",
            "Enter your authorization code:\n",
            "··········\n",
            "Mounted at /content/drive\n",
            "{'mintempC': '1', 'maxtempF': '48', 'sunHour': '9.8', 'mintempF': '34', 'maxtempC': '9', 'hourly': [{'windspeedKmph': '15', 'FeelsLikeF': '35', 'winddir16Point': 'ENE', 'FeelsLikeC': '2', 'DewPointC': '0', 'windspeedMiles': '10', 'DewPointF': '33', 'HeatIndexF': '41', 'cloudcover': '0', 'HeatIndexC': '5', 'precipMM': '0.0', 'weatherIconUrl': [{'value': 'http://cdn.worldweatheronline.net/images/wsymbols01_png_64/wsymbol_0008_clear_sky_night.png'}], 'WindGustMiles': '15', 'pressure': '1023', 'WindGustKmph': '23', 'weatherDesc': [{'value': 'Clear'}], 'visibility': '10', 'weatherCode': '113', 'tempC': '5', 'tempF': '41', 'WindChillF': '35', 'WindChillC': '2', 'winddirDegree': '58', 'humidity': '71', 'time': '0'}, {'windspeedKmph': '16', 'FeelsLikeF': '33', 'winddir16Point': 'ENE', 'FeelsLikeC': '1', 'DewPointC': '0', 'windspeedMiles': '10', 'DewPointF': '32', 'HeatIndexF': '40', 'cloudcover': '0', 'HeatIndexC': '4', 'precipMM': '0.0', 'weatherIconUrl': [{'value': 'http://cdn.worldweatheronline.net/images/wsymbols01_png_64/wsymbol_0008_clear_sky_night.png'}], 'WindGustMiles': '15', 'pressure': '1023', 'WindGustKmph': '24', 'weatherDesc': [{'value': 'Clear'}], 'visibility': '10', 'weatherCode': '113', 'tempC': '4', 'tempF': '40', 'WindChillF': '33', 'WindChillC': '1', 'winddirDegree': '59', 'humidity': '73', 'time': '100'}, {'windspeedKmph': '17', 'FeelsLikeF': '32', 'winddir16Point': 'ENE', 'FeelsLikeC': '0', 'DewPointC': '-1', 'windspeedMiles': '10', 'DewPointF': '31', 'HeatIndexF': '38', 'cloudcover': '0', 'HeatIndexC': '4', 'precipMM': '0.0', 'weatherIconUrl': [{'value': 'http://cdn.worldweatheronline.net/images/wsymbols01_png_64/wsymbol_0008_clear_sky_night.png'}], 'WindGustMiles': '16', 'pressure': '1023', 'WindGustKmph': '25', 'weatherDesc': [{'value': 'Clear'}], 'visibility': '10', 'weatherCode': '113', 'tempC': '4', 'tempF': '38', 'WindChillF': '32', 'WindChillC': '0', 'winddirDegree': '61', 'humidity': '74', 'time': '200'}, {'windspeedKmph': '17', 'FeelsLikeF': '30', 'winddir16Point': 'ENE', 'FeelsLikeC': '-1', 'DewPointC': '-1', 'windspeedMiles': '11', 'DewPointF': '30', 'HeatIndexF': '37', 'cloudcover': '0', 'HeatIndexC': '3', 'precipMM': '0.0', 'weatherIconUrl': [{'value': 'http://cdn.worldweatheronline.net/images/wsymbols01_png_64/wsymbol_0008_clear_sky_night.png'}], 'WindGustMiles': '16', 'pressure': '1022', 'WindGustKmph': '26', 'weatherDesc': [{'value': 'Clear'}], 'visibility': '10', 'weatherCode': '113', 'tempC': '3', 'tempF': '37', 'WindChillF': '30', 'WindChillC': '-1', 'winddirDegree': '63', 'humidity': '75', 'time': '300'}, {'windspeedKmph': '18', 'FeelsLikeF': '28', 'winddir16Point': 'ENE', 'FeelsLikeC': '-2', 'DewPointC': '-2', 'windspeedMiles': '11', 'DewPointF': '29', 'HeatIndexF': '36', 'cloudcover': '0', 'HeatIndexC': '2', 'precipMM': '0.0', 'weatherIconUrl': [{'value': 'http://cdn.worldweatheronline.net/images/wsymbols01_png_64/wsymbol_0008_clear_sky_night.png'}], 'WindGustMiles': '17', 'pressure': '1022', 'WindGustKmph': '27', 'weatherDesc': [{'value': 'Clear'}], 'visibility': '10', 'weatherCode': '113', 'tempC': '2', 'tempF': '36', 'WindChillF': '28', 'WindChillC': '-2', 'winddirDegree': '64', 'humidity': '75', 'time': '400'}, {'windspeedKmph': '18', 'FeelsLikeF': '27', 'winddir16Point': 'ENE', 'FeelsLikeC': '-3', 'DewPointC': '-2', 'windspeedMiles': '11', 'DewPointF': '28', 'HeatIndexF': '35', 'cloudcover': '0', 'HeatIndexC': '2', 'precipMM': '0.0', 'weatherIconUrl': [{'value': 'http://cdn.worldweatheronline.net/images/wsymbols01_png_64/wsymbol_0008_clear_sky_night.png'}], 'WindGustMiles': '18', 'pressure': '1022', 'WindGustKmph': '28', 'weatherDesc': [{'value': 'Clear'}], 'visibility': '10', 'weatherCode': '113', 'tempC': '2', 'tempF': '36', 'WindChillF': '27', 'WindChillC': '-3', 'winddirDegree': '66', 'humidity': '75', 'time': '500'}, {'windspeedKmph': '18', 'FeelsLikeF': '26', 'winddir16Point': 'ENE', 'FeelsLikeC': '-4', 'DewPointC': '-3', 'windspeedMiles': '11', 'DewPointF': '27', 'HeatIndexF': '34', 'cloudcover': '0', 'HeatIndexC': '1', 'precipMM': '0.0', 'weatherIconUrl': [{'value': 'http://cdn.worldweatheronline.net/images/wsymbols01_png_64/wsymbol_0001_sunny.png'}], 'WindGustMiles': '18', 'pressure': '1022', 'WindGustKmph': '30', 'weatherDesc': [{'value': 'Sunny'}], 'visibility': '10', 'weatherCode': '113', 'tempC': '2', 'tempF': '35', 'WindChillF': '26', 'WindChillC': '-4', 'winddirDegree': '67', 'humidity': '75', 'time': '600'}, {'windspeedKmph': '19', 'FeelsLikeF': '25', 'winddir16Point': 'ENE', 'FeelsLikeC': '-4', 'DewPointC': '-3', 'windspeedMiles': '12', 'DewPointF': '26', 'HeatIndexF': '34', 'cloudcover': '0', 'HeatIndexC': '1', 'precipMM': '0.0', 'weatherIconUrl': [{'value': 'http://cdn.worldweatheronline.net/images/wsymbols01_png_64/wsymbol_0001_sunny.png'}], 'WindGustMiles': '18', 'pressure': '1022', 'WindGustKmph': '30', 'weatherDesc': [{'value': 'Sunny'}], 'visibility': '10', 'weatherCode': '113', 'tempC': '2', 'tempF': '35', 'WindChillF': '25', 'WindChillC': '-4', 'winddirDegree': '69', 'humidity': '73', 'time': '700'}, {'windspeedKmph': '19', 'FeelsLikeF': '25', 'winddir16Point': 'ENE', 'FeelsLikeC': '-4', 'DewPointC': '-4', 'windspeedMiles': '12', 'DewPointF': '25', 'HeatIndexF': '34', 'cloudcover': '0', 'HeatIndexC': '1', 'precipMM': '0.0', 'weatherIconUrl': [{'value': 'http://cdn.worldweatheronline.net/images/wsymbols01_png_64/wsymbol_0001_sunny.png'}], 'WindGustMiles': '18', 'pressure': '1022', 'WindGustKmph': '30', 'weatherDesc': [{'value': 'Sunny'}], 'visibility': '10', 'weatherCode': '113', 'tempC': '2', 'tempF': '35', 'WindChillF': '25', 'WindChillC': '-4', 'winddirDegree': '70', 'humidity': '71', 'time': '800'}, {'windspeedKmph': '19', 'FeelsLikeF': '25', 'winddir16Point': 'ENE', 'FeelsLikeC': '-4', 'DewPointC': '-4', 'windspeedMiles': '12', 'DewPointF': '25', 'HeatIndexF': '34', 'cloudcover': '0', 'HeatIndexC': '1', 'precipMM': '0.0', 'weatherIconUrl': [{'value': 'http://cdn.worldweatheronline.net/images/wsymbols01_png_64/wsymbol_0001_sunny.png'}], 'WindGustMiles': '19', 'pressure': '1023', 'WindGustKmph': '30', 'weatherDesc': [{'value': 'Sunny'}], 'visibility': '10', 'weatherCode': '113', 'tempC': '2', 'tempF': '35', 'WindChillF': '25', 'WindChillC': '-4', 'winddirDegree': '72', 'humidity': '70', 'time': '900'}, {'windspeedKmph': '19', 'FeelsLikeF': '27', 'winddir16Point': 'ENE', 'FeelsLikeC': '-3', 'DewPointC': '-4', 'windspeedMiles': '12', 'DewPointF': '25', 'HeatIndexF': '35', 'cloudcover': '0', 'HeatIndexC': '2', 'precipMM': '0.0', 'weatherIconUrl': [{'value': 'http://cdn.worldweatheronline.net/images/wsymbols01_png_64/wsymbol_0001_sunny.png'}], 'WindGustMiles': '17', 'pressure': '1023', 'WindGustKmph': '28', 'weatherDesc': [{'value': 'Sunny'}], 'visibility': '10', 'weatherCode': '113', 'tempC': '3', 'tempF': '37', 'WindChillF': '27', 'WindChillC': '-3', 'winddirDegree': '71', 'humidity': '65', 'time': '1000'}, {'windspeedKmph': '19', 'FeelsLikeF': '29', 'winddir16Point': 'ENE', 'FeelsLikeC': '-1', 'DewPointC': '-4', 'windspeedMiles': '12', 'DewPointF': '25', 'HeatIndexF': '37', 'cloudcover': '0', 'HeatIndexC': '3', 'precipMM': '0.0', 'weatherIconUrl': [{'value': 'http://cdn.worldweatheronline.net/images/wsymbols01_png_64/wsymbol_0001_sunny.png'}], 'WindGustMiles': '16', 'pressure': '1023', 'WindGustKmph': '26', 'weatherDesc': [{'value': 'Sunny'}], 'visibility': '10', 'weatherCode': '113', 'tempC': '3', 'tempF': '38', 'WindChillF': '29', 'WindChillC': '-1', 'winddirDegree': '70', 'humidity': '61', 'time': '1100'}, {'windspeedKmph': '19', 'FeelsLikeF': '32', 'winddir16Point': 'ENE', 'FeelsLikeC': '0', 'DewPointC': '-4', 'windspeedMiles': '12', 'DewPointF': '25', 'HeatIndexF': '39', 'cloudcover': '0', 'HeatIndexC': '4', 'precipMM': '0.0', 'weatherIconUrl': [{'value': 'http://cdn.worldweatheronline.net/images/wsymbols01_png_64/wsymbol_0001_sunny.png'}], 'WindGustMiles': '15', 'pressure': '1023', 'WindGustKmph': '24', 'weatherDesc': [{'value': 'Sunny'}], 'visibility': '10', 'weatherCode': '113', 'tempC': '4', 'tempF': '40', 'WindChillF': '32', 'WindChillC': '0', 'winddirDegree': '70', 'humidity': '57', 'time': '1200'}, {'windspeedKmph': '19', 'FeelsLikeF': '35', 'winddir16Point': 'ENE', 'FeelsLikeC': '1', 'DewPointC': '-3', 'windspeedMiles': '12', 'DewPointF': '26', 'HeatIndexF': '41', 'cloudcover': '0', 'HeatIndexC': '5', 'precipMM': '0.0', 'weatherIconUrl': [{'value': 'http://cdn.worldweatheronline.net/images/wsymbols01_png_64/wsymbol_0001_sunny.png'}], 'WindGustMiles': '14', 'pressure': '1022', 'WindGustKmph': '23', 'weatherDesc': [{'value': 'Sunny'}], 'visibility': '10', 'weatherCode': '113', 'tempC': '6', 'tempF': '42', 'WindChillF': '35', 'WindChillC': '1', 'winddirDegree': '69', 'humidity': '54', 'time': '1300'}, {'windspeedKmph': '18', 'FeelsLikeF': '38', 'winddir16Point': 'ENE', 'FeelsLikeC': '3', 'DewPointC': '-3', 'windspeedMiles': '11', 'DewPointF': '27', 'HeatIndexF': '44', 'cloudcover': '0', 'HeatIndexC': '7', 'precipMM': '0.0', 'weatherIconUrl': [{'value': 'http://cdn.worldweatheronline.net/images/wsymbols01_png_64/wsymbol_0001_sunny.png'}], 'WindGustMiles': '14', 'pressure': '1022', 'WindGustKmph': '22', 'weatherDesc': [{'value': 'Sunny'}], 'visibility': '10', 'weatherCode': '113', 'tempC': '7', 'tempF': '45', 'WindChillF': '38', 'WindChillC': '3', 'winddirDegree': '68', 'humidity': '52', 'time': '1400'}, {'windspeedKmph': '18', 'FeelsLikeF': '41', 'winddir16Point': 'ENE', 'FeelsLikeC': '5', 'DewPointC': '-2', 'windspeedMiles': '11', 'DewPointF': '28', 'HeatIndexF': '46', 'cloudcover': '0', 'HeatIndexC': '8', 'precipMM': '0.0', 'weatherIconUrl': [{'value': 'http://cdn.worldweatheronline.net/images/wsymbols01_png_64/wsymbol_0001_sunny.png'}], 'WindGustMiles': '13', 'pressure': '1022', 'WindGustKmph': '21', 'weatherDesc': [{'value': 'Sunny'}], 'visibility': '10', 'weatherCode': '113', 'tempC': '9', 'tempF': '47', 'WindChillF': '41', 'WindChillC': '5', 'winddirDegree': '67', 'humidity': '50', 'time': '1500'}, {'windspeedKmph': '18', 'FeelsLikeF': '41', 'winddir16Point': 'ENE', 'FeelsLikeC': '5', 'DewPointC': '-1', 'windspeedMiles': '11', 'DewPointF': '29', 'HeatIndexF': '46', 'cloudcover': '0', 'HeatIndexC': '8', 'precipMM': '0.0', 'weatherIconUrl': [{'value': 'http://cdn.worldweatheronline.net/images/wsymbols01_png_64/wsymbol_0001_sunny.png'}], 'WindGustMiles': '13', 'pressure': '1021', 'WindGustKmph': '21', 'weatherDesc': [{'value': 'Sunny'}], 'visibility': '10', 'weatherCode': '113', 'tempC': '8', 'tempF': '47', 'WindChillF': '41', 'WindChillC': '5', 'winddirDegree': '68', 'humidity': '52', 'time': '1600'}, {'windspeedKmph': '18', 'FeelsLikeF': '41', 'winddir16Point': 'ENE', 'FeelsLikeC': '5', 'DewPointC': '-1', 'windspeedMiles': '11', 'DewPointF': '30', 'HeatIndexF': '46', 'cloudcover': '0', 'HeatIndexC': '8', 'precipMM': '0.0', 'weatherIconUrl': [{'value': 'http://cdn.worldweatheronline.net/images/wsymbols01_png_64/wsymbol_0001_sunny.png'}], 'WindGustMiles': '13', 'pressure': '1021', 'WindGustKmph': '21', 'weatherDesc': [{'value': 'Sunny'}], 'visibility': '10', 'weatherCode': '113', 'tempC': '8', 'tempF': '47', 'WindChillF': '41', 'WindChillC': '5', 'winddirDegree': '70', 'humidity': '54', 'time': '1700'}, {'windspeedKmph': '18', 'FeelsLikeF': '41', 'winddir16Point': 'ENE', 'FeelsLikeC': '5', 'DewPointC': '0', 'windspeedMiles': '11', 'DewPointF': '31', 'HeatIndexF': '46', 'cloudcover': '0', 'HeatIndexC': '8', 'precipMM': '0.0', 'weatherIconUrl': [{'value': 'http://cdn.worldweatheronline.net/images/wsymbols01_png_64/wsymbol_0001_sunny.png'}], 'WindGustMiles': '13', 'pressure': '1021', 'WindGustKmph': '22', 'weatherDesc': [{'value': 'Sunny'}], 'visibility': '10', 'weatherCode': '113', 'tempC': '8', 'tempF': '46', 'WindChillF': '41', 'WindChillC': '5', 'winddirDegree': '71', 'humidity': '57', 'time': '1800'}, {'windspeedKmph': '18', 'FeelsLikeF': '39', 'winddir16Point': 'ENE', 'FeelsLikeC': '4', 'DewPointC': '0', 'windspeedMiles': '11', 'DewPointF': '31', 'HeatIndexF': '45', 'cloudcover': '0', 'HeatIndexC': '7', 'precipMM': '0.0', 'weatherIconUrl': [{'value': 'http://cdn.worldweatheronline.net/images/wsymbols01_png_64/wsymbol_0001_sunny.png'}], 'WindGustMiles': '14', 'pressure': '1021', 'WindGustKmph': '23', 'weatherDesc': [{'value': 'Sunny'}], 'visibility': '10', 'weatherCode': '113', 'tempC': '7', 'tempF': '45', 'WindChillF': '39', 'WindChillC': '4', 'winddirDegree': '72', 'humidity': '60', 'time': '1900'}, {'windspeedKmph': '18', 'FeelsLikeF': '37', 'winddir16Point': 'ENE', 'FeelsLikeC': '3', 'DewPointC': '0', 'windspeedMiles': '11', 'DewPointF': '31', 'HeatIndexF': '43', 'cloudcover': '0', 'HeatIndexC': '6', 'precipMM': '0.0', 'weatherIconUrl': [{'value': 'http://cdn.worldweatheronline.net/images/wsymbols01_png_64/wsymbol_0001_sunny.png'}], 'WindGustMiles': '15', 'pressure': '1021', 'WindGustKmph': '24', 'weatherDesc': [{'value': 'Sunny'}], 'visibility': '10', 'weatherCode': '113', 'tempC': '6', 'tempF': '43', 'WindChillF': '37', 'WindChillC': '3', 'winddirDegree': '74', 'humidity': '64', 'time': '2000'}, {'windspeedKmph': '18', 'FeelsLikeF': '35', 'winddir16Point': 'ENE', 'FeelsLikeC': '2', 'DewPointC': '0', 'windspeedMiles': '11', 'DewPointF': '31', 'HeatIndexF': '41', 'cloudcover': '0', 'HeatIndexC': '5', 'precipMM': '0.0', 'weatherIconUrl': [{'value': 'http://cdn.worldweatheronline.net/images/wsymbols01_png_64/wsymbol_0008_clear_sky_night.png'}], 'WindGustMiles': '16', 'pressure': '1021', 'WindGustKmph': '25', 'weatherDesc': [{'value': 'Clear'}], 'visibility': '10', 'weatherCode': '113', 'tempC': '5', 'tempF': '41', 'WindChillF': '35', 'WindChillC': '2', 'winddirDegree': '75', 'humidity': '68', 'time': '2100'}, {'windspeedKmph': '17', 'FeelsLikeF': '33', 'winddir16Point': 'ENE', 'FeelsLikeC': '1', 'DewPointC': '-1', 'windspeedMiles': '11', 'DewPointF': '31', 'HeatIndexF': '40', 'cloudcover': '11', 'HeatIndexC': '4', 'precipMM': '0.0', 'weatherIconUrl': [{'value': 'http://cdn.worldweatheronline.net/images/wsymbols01_png_64/wsymbol_0008_clear_sky_night.png'}], 'WindGustMiles': '16', 'pressure': '1021', 'WindGustKmph': '27', 'weatherDesc': [{'value': 'Clear'}], 'visibility': '10', 'weatherCode': '113', 'tempC': '4', 'tempF': '40', 'WindChillF': '33', 'WindChillC': '1', 'winddirDegree': '77', 'humidity': '69', 'time': '2200'}, {'windspeedKmph': '17', 'FeelsLikeF': '32', 'winddir16Point': 'E', 'FeelsLikeC': '0', 'DewPointC': '-1', 'windspeedMiles': '11', 'DewPointF': '30', 'HeatIndexF': '39', 'cloudcover': '22', 'HeatIndexC': '4', 'precipMM': '0.0', 'weatherIconUrl': [{'value': 'http://cdn.worldweatheronline.net/images/wsymbols01_png_64/wsymbol_0008_clear_sky_night.png'}], 'WindGustMiles': '17', 'pressure': '1021', 'WindGustKmph': '28', 'weatherDesc': [{'value': 'Clear'}], 'visibility': '10', 'weatherCode': '113', 'tempC': '4', 'tempF': '39', 'WindChillF': '32', 'WindChillC': '0', 'winddirDegree': '79', 'humidity': '70', 'time': '2300'}], 'totalSnow_cm': '0.0', 'date': '2016-01-01', 'astronomy': [{'moon_phase': 'Waning Gibbous', 'moonrise': '12:30 AM', 'moonset': '12:45 PM', 'sunset': '06:02 PM', 'moon_illumination': '76', 'sunrise': '08:24 AM'}], 'uvIndex': '0'}\n",
            "10\n"
          ],
          "name": "stdout"
        }
      ]
    },
    {
      "cell_type": "code",
      "metadata": {
        "id": "9k8lBV2gV2ky",
        "colab_type": "code",
        "colab": {}
      },
      "source": [
        "def processing(data):\n",
        "  \n",
        "  request = data['data']['request']\n",
        "  data = data['data']['weather']\n",
        "  df_hourly = pd.DataFrame()\n",
        "  #print(len(data))\n",
        "  for i in range(len(data)):\n",
        "   df1 = pd.DataFrame(data = data[i]['hourly'])\n",
        "   df_hourly = pd.concat([df_hourly,df1], ignore_index = True)\n",
        "  #print(df_hourly.shape)\n",
        "  '''for i in data[0].keys():\n",
        "   df[i] = \"0\"\n",
        "  print(df.shape)\n",
        "  del df['hourly']\n",
        "  del df['astronomy']'''\n",
        "  columns = list(data[0].keys())\n",
        "  #print(len(columns))\n",
        "  columns.remove ('hourly')\n",
        "  columns.remove ('astronomy')\n",
        "  df_Astronomy = pd.DataFrame()\n",
        "  for i in range(len(data)):\n",
        "    df_temp = pd.DataFrame(data = data[i]['astronomy'])\n",
        "    df_temp = pd.concat([df_temp]*24 , ignore_index = True)\n",
        "    df_Astronomy = pd.concat([df_Astronomy,df_temp] , ignore_index = True)\n",
        "  df_request = pd.DataFrame(data = request[0], index = [0])\n",
        "  df_request = pd.concat([df_request]*len(df_hourly.index) , ignore_index = True)\n",
        "  \n",
        "\n",
        "  def conversion(columns,data):           #conversion is a function to convert the values apart from 'hourly' and 'astronomy' into a usable DataFrame\n",
        "\n",
        "    flag = 0\n",
        "    variable = []\n",
        "    dict1 = defaultdict(list)\n",
        "    for k in columns:\n",
        "      for i in range (len(data)):\n",
        "        variable.append(data[i][k])\n",
        "    #print(variable)\n",
        "    #print(\"The length of list of original values: \", len(variable))\n",
        "    #print(len(data))\n",
        "    list2=[]\n",
        "    for i in variable:\n",
        "      for j in range(24):\n",
        "        list2.append(i)\n",
        "    #print(\"The length of list of original values after duplication: \", len(list2))\n",
        "    for i in columns:\n",
        "      for j in range(24*len(data)):\n",
        "        dict1[i].append(list2[flag])\n",
        "        flag = flag + 1\n",
        "    #print(\"The length of dictionary of duplicated values: \", len(dict1))\n",
        "    return(dict1)\n",
        "\n",
        "  columns_df = {}\n",
        "  columns_df = conversion(columns, data)    \n",
        "  df_values = pd.DataFrame(data = columns_df)\n",
        "  \n",
        "  df_month = pd.DataFrame()\n",
        "  df_month = pd.concat([df_values,df_hourly,df_Astronomy,df_request], axis = 1)\n",
        "  #print(df_month.shape)\n",
        "  return(df_month)"
      ],
      "execution_count": 0,
      "outputs": []
    },
    {
      "cell_type": "code",
      "metadata": {
        "id": "g3R9HQ-AV5xf",
        "colab_type": "code",
        "outputId": "e015972c-c298-45d1-b52d-797dffe4016d",
        "colab": {
          "base_uri": "https://localhost:8080/",
          "height": 748
        }
      },
      "source": [
        "def weather_processing(year , dataframe):\n",
        "  \n",
        "  \n",
        "  path = os.getcwd()\n",
        "  df_temp = pd.DataFrame()\n",
        "  dir_list = [d for d in os.listdir(path + '/drive/My Drive/ML Project/weather') if os.path.isdir(os.path.join(path + '/drive/My Drive/ML Project/weather', d))]\n",
        "  for i in dir_list:\n",
        "   for j in range(12):\n",
        "     file = open(path+'/drive/My Drive/ML Project/weather/{}/{}-{}.json'.format(i,year,(j+1)))\n",
        "     data = json.load(file)\n",
        "     df_temp = processing(data)\n",
        "     dataframe = pd.concat([dataframe,df_temp],ignore_index = True)\n",
        "  return(dataframe)  \n",
        "  \n",
        "df = pd.DataFrame()\n",
        "df = weather_processing(2016 , df)\n",
        "df = weather_processing(2017 , df)\n",
        "\n",
        "  "
      ],
      "execution_count": 0,
      "outputs": [
        {
          "output_type": "stream",
          "text": [
            "(263160, 41)\n",
            "mintempC             False\n",
            "maxtempF             False\n",
            "sunHour              False\n",
            "mintempF             False\n",
            "maxtempC             False\n",
            "totalSnow_cm         False\n",
            "date                 False\n",
            "uvIndex              False\n",
            "windspeedKmph        False\n",
            "FeelsLikeF           False\n",
            "winddir16Point       False\n",
            "FeelsLikeC           False\n",
            "DewPointC            False\n",
            "windspeedMiles       False\n",
            "DewPointF            False\n",
            "HeatIndexF           False\n",
            "cloudcover           False\n",
            "HeatIndexC           False\n",
            "precipMM             False\n",
            "weatherIconUrl       False\n",
            "WindGustMiles        False\n",
            "pressure             False\n",
            "WindGustKmph         False\n",
            "weatherDesc          False\n",
            "visibility           False\n",
            "weatherCode          False\n",
            "tempC                False\n",
            "tempF                False\n",
            "WindChillF           False\n",
            "WindChillC           False\n",
            "winddirDegree        False\n",
            "humidity             False\n",
            "time                 False\n",
            "moon_phase           False\n",
            "moonrise             False\n",
            "moonset              False\n",
            "sunset               False\n",
            "moon_illumination    False\n",
            "sunrise              False\n",
            "query                False\n",
            "type                 False\n",
            "dtype: bool\n"
          ],
          "name": "stdout"
        }
      ]
    },
    {
      "cell_type": "code",
      "metadata": {
        "id": "F6JFidy2UosT",
        "colab_type": "code",
        "outputId": "4e0c98ed-a9eb-4a56-d021-fe7515afa7ec",
        "colab": {
          "base_uri": "https://localhost:8080/",
          "height": 51
        }
      },
      "source": [
        "col_list = ['windspeedKmph', 'winddirDegree', 'weatherCode', 'precipMM', 'visibility', 'pressure', 'cloudcover', 'DewPointF', 'WindGustKmph', 'tempF', 'WindChillF', 'humidity', 'date', 'time', 'query']\n",
        "df = df[col_list]\n",
        "print(df.shape)\n",
        "df['airport'] = df['query'].str[:3]\n",
        "df = df.drop(['query'], axis = 1)\n",
        "df.shape\n"
      ],
      "execution_count": 0,
      "outputs": [
        {
          "output_type": "stream",
          "text": [
            "(263160, 15)\n"
          ],
          "name": "stdout"
        },
        {
          "output_type": "execute_result",
          "data": {
            "text/plain": [
              "(263160, 15)"
            ]
          },
          "metadata": {
            "tags": []
          },
          "execution_count": 23
        }
      ]
    },
    {
      "cell_type": "code",
      "metadata": {
        "id": "iCn5Zm3al8Ah",
        "colab_type": "code",
        "outputId": "1b60c38a-cc5f-43f1-d9cf-80a20d0cd54b",
        "colab": {
          "base_uri": "https://localhost:8080/",
          "height": 323
        }
      },
      "source": [
        "print(df.shape)\n",
        "print(\"A\", df.isna().any())\n",
        "df.dropna()\n",
        "df.shape\n",
        "print(len(data))\n",
        "\n",
        "df.to_csv(path + '/drive/My Drive/ML Project/Weather.csv', index = False)\n",
        "\n",
        "\n"
      ],
      "execution_count": 0,
      "outputs": [
        {
          "output_type": "stream",
          "text": [
            "(263160, 15)\n",
            "A windspeedKmph    False\n",
            "winddirDegree    False\n",
            "weatherCode      False\n",
            "precipMM         False\n",
            "visibility       False\n",
            "pressure         False\n",
            "cloudcover       False\n",
            "DewPointF        False\n",
            "WindGustKmph     False\n",
            "tempF            False\n",
            "WindChillF       False\n",
            "humidity         False\n",
            "date             False\n",
            "time             False\n",
            "airport          False\n",
            "dtype: bool\n",
            "31\n"
          ],
          "name": "stdout"
        }
      ]
    },
    {
      "cell_type": "code",
      "metadata": {
        "id": "llfVcfNe-_Dn",
        "colab_type": "code",
        "outputId": "82ffb4b6-b8a5-4b70-d034-027225c3af0f",
        "colab": {
          "base_uri": "https://localhost:8080/",
          "height": 323
        }
      },
      "source": [
        "dataframe = pd.read_csv(path + '/drive/My Drive/ML Project/Weather.csv')\n",
        "dataframe.shape\n",
        "df1 = pd.DataFrame()\n",
        "print (dataframe.shape)\n",
        "print(dataframe.isna().any())\n",
        "dataframe.dropna()\n",
        "print(dataframe.shape)"
      ],
      "execution_count": 0,
      "outputs": [
        {
          "output_type": "stream",
          "text": [
            "(263160, 15)\n",
            "windspeedKmph    False\n",
            "winddirDegree    False\n",
            "weatherCode      False\n",
            "precipMM         False\n",
            "visibility       False\n",
            "pressure         False\n",
            "cloudcover       False\n",
            "DewPointF        False\n",
            "WindGustKmph     False\n",
            "tempF            False\n",
            "WindChillF       False\n",
            "humidity         False\n",
            "date             False\n",
            "time             False\n",
            "airport          False\n",
            "dtype: bool\n",
            "(263160, 15)\n"
          ],
          "name": "stdout"
        }
      ]
    },
    {
      "cell_type": "code",
      "metadata": {
        "id": "1nLgCRiSKJoM",
        "colab_type": "code",
        "colab": {}
      },
      "source": [
        ""
      ],
      "execution_count": 0,
      "outputs": []
    }
  ]
}