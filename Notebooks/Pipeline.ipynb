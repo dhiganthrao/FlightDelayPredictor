{
  "nbformat": 4,
  "nbformat_minor": 0,
  "metadata": {
    "colab": {
      "name": "Pipeline.ipynb",
      "provenance": [],
      "collapsed_sections": []
    },
    "kernelspec": {
      "name": "python3",
      "display_name": "Python 3"
    }
  },
  "cells": [
    {
      "cell_type": "code",
      "metadata": {
        "id": "__yUIL21BMNV",
        "colab_type": "code",
        "outputId": "857d1afd-fd87-42c4-a686-b5b5adfb91ed",
        "colab": {
          "base_uri": "https://localhost:8080/",
          "height": 139
        }
      },
      "source": [
        "from google.colab import drive\n",
        "import numpy as np\n",
        "import math\n",
        "import pandas as pd\n",
        "import os\n",
        "import pickle \n",
        "import sklearn\n",
        "from sklearn.externals import joblib\n",
        "from sklearn.ensemble import RandomForestRegressor\n",
        "from sklearn.metrics import mean_absolute_error\n",
        "from sklearn.metrics import mean_squared_error \n",
        "import matplotlib.pyplot as plt; plt.rcdefaults()\n",
        "from imblearn.under_sampling import RandomUnderSampler\n",
        "from imblearn.over_sampling import SMOTE"
      ],
      "execution_count": 0,
      "outputs": [
        {
          "output_type": "stream",
          "text": [
            "/usr/local/lib/python3.6/dist-packages/sklearn/externals/joblib/__init__.py:15: FutureWarning: sklearn.externals.joblib is deprecated in 0.21 and will be removed in 0.23. Please import this functionality directly from joblib, which can be installed with: pip install joblib. If this warning is raised when loading pickled models, you may need to re-serialize those models with scikit-learn 0.21+.\n",
            "  warnings.warn(msg, category=FutureWarning)\n",
            "/usr/local/lib/python3.6/dist-packages/sklearn/externals/six.py:31: FutureWarning: The module is deprecated in version 0.21 and will be removed in version 0.23 since we've dropped support for Python 2.7. Please rely on the official version of six (https://pypi.org/project/six/).\n",
            "  \"(https://pypi.org/project/six/).\", FutureWarning)\n",
            "/usr/local/lib/python3.6/dist-packages/sklearn/utils/deprecation.py:144: FutureWarning: The sklearn.neighbors.base module is  deprecated in version 0.22 and will be removed in version 0.24. The corresponding classes / functions should instead be imported from sklearn.neighbors. Anything that cannot be imported from sklearn.neighbors is now part of the private API.\n",
            "  warnings.warn(message, FutureWarning)\n"
          ],
          "name": "stderr"
        }
      ]
    },
    {
      "cell_type": "code",
      "metadata": {
        "id": "_U0QRNF2BNIo",
        "colab_type": "code",
        "outputId": "296c5ad8-192a-4972-8eb0-a71117040849",
        "colab": {
          "base_uri": "https://localhost:8080/",
          "height": 139
        }
      },
      "source": [
        "drive.mount('/content/drive')\n",
        "path = os.getcwd()\n",
        "print(path)\n",
        "merge = pd.read_csv(path + '/drive/My Drive/ML Project/Merge.csv')"
      ],
      "execution_count": 0,
      "outputs": [
        {
          "output_type": "stream",
          "text": [
            "Go to this URL in a browser: https://accounts.google.com/o/oauth2/auth?client_id=947318989803-6bn6qk8qdgf4n4g3pfee6491hc0brc4i.apps.googleusercontent.com&redirect_uri=urn%3aietf%3awg%3aoauth%3a2.0%3aoob&response_type=code&scope=email%20https%3a%2f%2fwww.googleapis.com%2fauth%2fdocs.test%20https%3a%2f%2fwww.googleapis.com%2fauth%2fdrive%20https%3a%2f%2fwww.googleapis.com%2fauth%2fdrive.photos.readonly%20https%3a%2f%2fwww.googleapis.com%2fauth%2fpeopleapi.readonly\n",
            "\n",
            "Enter your authorization code:\n",
            "··········\n",
            "Mounted at /content/drive\n",
            "/content\n"
          ],
          "name": "stdout"
        }
      ]
    },
    {
      "cell_type": "code",
      "metadata": {
        "id": "Uptd5cszBQqN",
        "colab_type": "code",
        "colab": {}
      },
      "source": [
        "test = pd.read_csv(path + '/drive/My Drive/ML Project/Test.csv')\n",
        "classifier_rf = joblib.load(path + '/drive/My Drive/ML Project/classifier_model_rf.sav')"
      ],
      "execution_count": 0,
      "outputs": []
    },
    {
      "cell_type": "code",
      "metadata": {
        "id": "HPt8D5qRB42_",
        "colab_type": "code",
        "colab": {}
      },
      "source": [
        "prediction_rf = classifier_rf.predict(test.drop(['Origin','Dest','FlightDate','date', 'ArrDelayMinutes', 'ArrDel15','ArrTime'], axis = 1))"
      ],
      "execution_count": 0,
      "outputs": []
    },
    {
      "cell_type": "code",
      "metadata": {
        "id": "ioF1e5z5JsmR",
        "colab_type": "code",
        "outputId": "2a683954-bc49-4979-ffdd-9982882820c5",
        "colab": {
          "base_uri": "https://localhost:8080/",
          "height": 629
        }
      },
      "source": [
        "print(\"RandomForest: \", classification_report(test['ArrDel15'], prediction_rf))"
      ],
      "execution_count": 0,
      "outputs": [
        {
          "output_type": "stream",
          "text": [
            "RandomForest:                precision    recall  f1-score   support\n",
            "\n",
            "         0.0       0.92      0.97      0.95    365677\n",
            "         1.0       0.87      0.70      0.78     97182\n",
            "\n",
            "    accuracy                           0.92    462859\n",
            "   macro avg       0.90      0.84      0.86    462859\n",
            "weighted avg       0.91      0.92      0.91    462859\n",
            "\n",
            "LR:                precision    recall  f1-score   support\n",
            "\n",
            "         0.0       0.92      0.98      0.95    365677\n",
            "         1.0       0.89      0.68      0.77     97182\n",
            "\n",
            "    accuracy                           0.92    462859\n",
            "   macro avg       0.91      0.83      0.86    462859\n",
            "weighted avg       0.91      0.92      0.91    462859\n",
            "\n",
            "ET:                precision    recall  f1-score   support\n",
            "\n",
            "         0.0       0.92      0.94      0.93    365677\n",
            "         1.0       0.76      0.71      0.74     97182\n",
            "\n",
            "    accuracy                           0.89    462859\n",
            "   macro avg       0.84      0.83      0.83    462859\n",
            "weighted avg       0.89      0.89      0.89    462859\n",
            "\n",
            "GNB:                precision    recall  f1-score   support\n",
            "\n",
            "         0.0       0.94      0.93      0.93    365677\n",
            "         1.0       0.75      0.76      0.75     97182\n",
            "\n",
            "    accuracy                           0.90    462859\n",
            "   macro avg       0.84      0.85      0.84    462859\n",
            "weighted avg       0.90      0.90      0.90    462859\n",
            "\n"
          ],
          "name": "stdout"
        }
      ]
    },
    {
      "cell_type": "code",
      "metadata": {
        "id": "g07zj8T2YEW-",
        "colab_type": "code",
        "colab": {}
      },
      "source": [
        "train = pd.read_csv(path + '/drive/My Drive/ML Project/Train.csv')"
      ],
      "execution_count": 0,
      "outputs": []
    },
    {
      "cell_type": "code",
      "metadata": {
        "id": "U0Rf5MkELRwx",
        "colab_type": "code",
        "outputId": "06e2df94-a4d9-4e43-e3b0-83d028acb209",
        "colab": {
          "base_uri": "https://localhost:8080/",
          "height": 71
        }
      },
      "source": [
        "#undersample = RandomUnderSampler(sampling_strategy='majority')\n",
        "\n",
        "oversample = SMOTE()\n",
        "train_under, train_labels = oversample.fit_resample(train.drop(['Origin','Dest','FlightDate','date', 'ArrDelayMinutes'], axis = 1), train['ArrDel15'])\n",
        "train0 = pd.DataFrame(data = train_under)\n",
        "train0['ArrDel15'] = train_labels\n",
        "#train_under, train_labels_under = oversample.fit_resample(train.drop(['Origin','Dest','FlightDate','date', 'ArrDelayMinutes'], axis = 1), train_labels)"
      ],
      "execution_count": 0,
      "outputs": [
        {
          "output_type": "stream",
          "text": [
            "/usr/local/lib/python3.6/dist-packages/sklearn/utils/deprecation.py:87: FutureWarning: Function safe_indexing is deprecated; safe_indexing is deprecated in version 0.22 and will be removed in version 0.24.\n",
            "  warnings.warn(msg, category=FutureWarning)\n"
          ],
          "name": "stderr"
        }
      ]
    },
    {
      "cell_type": "markdown",
      "metadata": {
        "id": "OYLBQwJuN_m6",
        "colab_type": "text"
      },
      "source": [
        ""
      ]
    },
    {
      "cell_type": "code",
      "metadata": {
        "id": "HYdKBcKueKGn",
        "colab_type": "code",
        "colab": {}
      },
      "source": [
        "test_new = test.drop(['ArrDel15', 'ArrTime'], axis = 1)\n",
        "test_new['ArrDel15'] = prediction_rf\n",
        "test_new = test_new[test_new['ArrDel15'] != 0]\n",
        "ground_truth = test_new['ArrDelayMinutes']"
      ],
      "execution_count": 0,
      "outputs": []
    },
    {
      "cell_type": "code",
      "metadata": {
        "id": "tMkZnTDYeawR",
        "colab_type": "code",
        "colab": {}
      },
      "source": [
        "regressor = joblib.load(path + '/drive/My Drive/ML Project/regressor_model_rf.sav')"
      ],
      "execution_count": 0,
      "outputs": []
    },
    {
      "cell_type": "code",
      "metadata": {
        "id": "A6akEMYIeyr6",
        "colab_type": "code",
        "colab": {}
      },
      "source": [
        "delay_minutes = regressor.predict(test_new.drop(['Origin','Dest','FlightDate','date', 'ArrDel15', 'ArrDelayMinutes'], axis = 1))"
      ],
      "execution_count": 0,
      "outputs": []
    },
    {
      "cell_type": "code",
      "metadata": {
        "id": "rMwcEOPCfltB",
        "colab_type": "code",
        "outputId": "e41d61e4-6235-41dd-f1a1-b64dd3f527a2",
        "colab": {
          "base_uri": "https://localhost:8080/",
          "height": 289
        }
      },
      "source": [
        "print(\"RandomForest Mean Absolute Error: \", mean_absolute_error(ground_truth, delay_minutes))\n",
        "print(\"RandomForest Mean Squared Error: \", math.sqrt(mean_squared_error(ground_truth, delay_minutes)))\n",
        "df_rf = pd.DataFrame({'Actual': ground_truth, 'Predicted': delay_minutes})\n",
        "print(df_rf)"
      ],
      "execution_count": 0,
      "outputs": [
        {
          "output_type": "stream",
          "text": [
            "RandomForest Mean Absolute Error:  14.263926975234682\n",
            "RandomForest Mean Squared Error:  19.05743449871358\n",
            "        Actual  Predicted\n",
            "4         37.0      27.04\n",
            "13        28.0      45.33\n",
            "21       276.0     302.64\n",
            "33        85.0      96.87\n",
            "38        65.0      32.92\n",
            "...        ...        ...\n",
            "462821    21.0      31.93\n",
            "462824    15.0      32.47\n",
            "462831     1.0      30.19\n",
            "462849    34.0      33.21\n",
            "462853   162.0     152.20\n",
            "\n",
            "[78095 rows x 2 columns]\n"
          ],
          "name": "stdout"
        }
      ]
    },
    {
      "cell_type": "code",
      "metadata": {
        "id": "Vq2cs-UPplhr",
        "colab_type": "code",
        "colab": {}
      },
      "source": [
        "test_sorted = test_new.sort_values(['ArrDelayMinutes'])"
      ],
      "execution_count": 0,
      "outputs": []
    },
    {
      "cell_type": "markdown",
      "metadata": {
        "id": "yLCRexsWqm5d",
        "colab_type": "text"
      },
      "source": [
        "You now have to divide the test dataset into pieces where ArrDelayMinutes is from 0-50, 50-100, etc. then pass each and every piece into the regressor."
      ]
    },
    {
      "cell_type": "code",
      "metadata": {
        "id": "R2gmdOWaWgFq",
        "colab_type": "code",
        "outputId": "2d0ad1e3-360d-4ed2-a3a6-fb152a61c9ad",
        "colab": {
          "base_uri": "https://localhost:8080/",
          "height": 221
        }
      },
      "source": [
        "print(test_sorted['ArrDelayMinutes'])"
      ],
      "execution_count": 0,
      "outputs": [
        {
          "output_type": "stream",
          "text": [
            "127217       0.0\n",
            "13070        0.0\n",
            "281228       0.0\n",
            "281223       0.0\n",
            "37806        0.0\n",
            "           ...  \n",
            "416554    1396.0\n",
            "334917    1405.0\n",
            "290848    1442.0\n",
            "34709     1505.0\n",
            "455835    2142.0\n",
            "Name: ArrDelayMinutes, Length: 78095, dtype: float64\n"
          ],
          "name": "stdout"
        }
      ]
    },
    {
      "cell_type": "code",
      "metadata": {
        "id": "DDATx2ALdcZN",
        "colab_type": "code",
        "outputId": "d4a86ab8-5c7e-412a-e1ee-a24272044c92",
        "colab": {
          "base_uri": "https://localhost:8080/",
          "height": 646
        }
      },
      "source": [
        "lower = 15\n",
        "upper = 100\n",
        "mae = []\n",
        "rmse = []\n",
        "while(upper <= test_sorted['ArrDelayMinutes'].max()):\n",
        "  print(\"Iteration\", lower)\n",
        "  test_loop = pd.DataFrame()\n",
        "  test_loop = test_sorted[(test_sorted['ArrDelayMinutes'] > lower) & (test_sorted['ArrDelayMinutes'] <= upper)]\n",
        "  if (test_loop.empty != True):\n",
        "    delay_minutes = regressor.predict(test_loop.drop(['Origin','Dest','FlightDate','date', 'ArrDel15', 'ArrDelayMinutes'], axis = 1))\n",
        "    mae.append(mean_absolute_error(test_loop['ArrDelayMinutes'], delay_minutes))\n",
        "    rmse.append(math.sqrt(mean_squared_error(test_loop['ArrDelayMinutes'], delay_minutes)))\n",
        "    print(\"Appended\")\n",
        "  lower = upper\n",
        "  upper = upper + 100\n"
      ],
      "execution_count": 0,
      "outputs": [
        {
          "output_type": "stream",
          "text": [
            "Iteration 15\n",
            "Appended\n",
            "Iteration 100\n",
            "Appended\n",
            "Iteration 200\n",
            "Appended\n",
            "Iteration 300\n",
            "Appended\n",
            "Iteration 400\n",
            "Appended\n",
            "Iteration 500\n",
            "Appended\n",
            "Iteration 600\n",
            "Appended\n",
            "Iteration 700\n",
            "Appended\n",
            "Iteration 800\n",
            "Appended\n",
            "Iteration 900\n",
            "Appended\n",
            "Iteration 1000\n",
            "Appended\n",
            "Iteration 1100\n",
            "Appended\n",
            "Iteration 1200\n",
            "Appended\n",
            "Iteration 1300\n",
            "Appended\n",
            "Iteration 1400\n",
            "Appended\n",
            "Iteration 1500\n",
            "Appended\n",
            "Iteration 1600\n",
            "Iteration 1700\n",
            "Iteration 1800\n",
            "Iteration 1900\n",
            "Iteration 2000\n"
          ],
          "name": "stdout"
        }
      ]
    },
    {
      "cell_type": "code",
      "metadata": {
        "id": "cD3pKI5yIEnZ",
        "colab_type": "code",
        "outputId": "e7c4864b-ddf4-4ec3-fc5f-2a7ff0f85c88",
        "colab": {
          "base_uri": "https://localhost:8080/",
          "height": 187
        }
      },
      "source": [
        "lower = 15\n",
        "mae = []\n",
        "rmse = []\n",
        "minutes = [15,100,200,500,1000]\n",
        "for upper in minutes: \n",
        "  print(\"Iteration\", lower)\n",
        "  test_loop = pd.DataFrame()\n",
        "  test_loop = test_sorted[(test_sorted['ArrDelayMinutes'] > lower) & (test_sorted['ArrDelayMinutes'] <= upper)]\n",
        "  if (test_loop.empty != True):\n",
        "    delay_minutes = regressor.predict(test_loop.drop(['Origin','Dest','FlightDate','date', 'ArrDel15', 'ArrDelayMinutes'], axis = 1))\n",
        "    mae.append(mean_absolute_error(test_loop['ArrDelayMinutes'], delay_minutes))\n",
        "    rmse.append(math.sqrt(mean_squared_error(test_loop['ArrDelayMinutes'], delay_minutes)))\n",
        "    print(\"Appended\")\n",
        "  lower = upper\n",
        "\n",
        "test_loop = test_sorted[test_sorted['ArrDelayMinutes'] > 1000]\n",
        "delay_minutes = regressor.predict(test_loop.drop(['Origin','Dest','FlightDate','date', 'ArrDel15', 'ArrDelayMinutes'], axis = 1))\n",
        "mae.append(mean_absolute_error(test_loop['ArrDelayMinutes'], delay_minutes))\n",
        "rmse.append(math.sqrt(mean_squared_error(test_loop['ArrDelayMinutes'], delay_minutes)))\n",
        "print(len(mae),len(rmse))\n",
        "\n"
      ],
      "execution_count": 0,
      "outputs": [
        {
          "output_type": "stream",
          "text": [
            "Iteration 15\n",
            "Iteration 15\n",
            "Appended\n",
            "Iteration 100\n",
            "Appended\n",
            "Iteration 200\n",
            "Appended\n",
            "Iteration 500\n",
            "Appended\n",
            "5 5\n"
          ],
          "name": "stdout"
        }
      ]
    },
    {
      "cell_type": "code",
      "metadata": {
        "id": "vZJpvR88eU_V",
        "colab_type": "code",
        "outputId": "3e9eeca4-3500-4d2c-e6e3-8bd3d4d8354b",
        "colab": {
          "base_uri": "https://localhost:8080/",
          "height": 54
        }
      },
      "source": [
        "print(mae, rmse)"
      ],
      "execution_count": 0,
      "outputs": [
        {
          "output_type": "stream",
          "text": [
            "[11.23102033625387, 17.416595925297113, 19.152542082738947, 15.947572463768118, 24.286216216216207] [14.528684529198282, 25.30036458731916, 28.595156644251357, 22.011483621779885, 42.939355129285744]\n"
          ],
          "name": "stdout"
        }
      ]
    },
    {
      "cell_type": "code",
      "metadata": {
        "id": "RiqERTlte8dG",
        "colab_type": "code",
        "outputId": "fc7672bb-44b8-4d1c-c7d1-9d67f92a4c6c",
        "colab": {
          "base_uri": "https://localhost:8080/",
          "height": 51
        }
      },
      "source": [
        "print(len(mae))\n",
        "print(lower, upper)"
      ],
      "execution_count": 0,
      "outputs": [
        {
          "output_type": "stream",
          "text": [
            "17\n",
            "2100 2200\n"
          ],
          "name": "stdout"
        }
      ]
    },
    {
      "cell_type": "code",
      "metadata": {
        "id": "zlMTt0KcfUnY",
        "colab_type": "code",
        "colab": {}
      },
      "source": [
        "test_loop = test_sorted[(test_sorted['ArrDelayMinutes'] <= 2150) & (test_sorted['ArrDelayMinutes'] > 2000)]\n",
        "delay_minutes = regressor.predict(test_loop.drop(['Origin','Dest','FlightDate','date', 'ArrDel15', 'ArrDelayMinutes'], axis = 1))\n",
        "mae.append(mean_absolute_error(test_loop['ArrDelayMinutes'], delay_minutes))\n",
        "rmse.append(math.sqrt(mean_squared_error(test_loop['ArrDelayMinutes'], delay_minutes)))\n"
      ],
      "execution_count": 0,
      "outputs": []
    },
    {
      "cell_type": "code",
      "metadata": {
        "id": "p_AS5IbSfwZQ",
        "colab_type": "code",
        "outputId": "581790c4-958c-46f1-a6bf-40d1ea5efe91",
        "colab": {
          "base_uri": "https://localhost:8080/",
          "height": 54
        }
      },
      "source": [
        "print(mae)"
      ],
      "execution_count": 0,
      "outputs": [
        {
          "output_type": "stream",
          "text": [
            "[12.282699296568728, 13.327944713265941, 17.08882710792067, 18.17310586913788, 19.730117164616285, 19.019334098737083, 17.808325581395348, 18.942730627306275, 19.781240875912406, 15.54404494382022, 19.59220338983051, 12.90735294117646, 16.333636363636366, 18.756944444444454, 13.786111111111122, 13.66333333333333, 13.320416666666674, 15.550416666666658, 17.24533333333333, 9.78733333333333, 21.13333333333334, 16.892000000000007, 13.414999999999964, 11.92800000000002, 19.78199999999997, 7.710000000000036, 19.470000000000027, 25.20666666666663, 40.389999999999986, 10.069999999999936, 218.06999999999994]\n"
          ],
          "name": "stdout"
        }
      ]
    },
    {
      "cell_type": "code",
      "metadata": {
        "id": "71VoZIsKtKL-",
        "colab_type": "code",
        "colab": {}
      },
      "source": [
        "with open(path + \"/drive/My Drive/ML Project/MAE.txt\", \"wb\") as fp:  \n",
        "   pickle.dump(mae, fp)\n",
        "with open(path + \"/drive/My Drive/ML Project/RMSE.txt\", \"wb\") as fp:\n",
        "   pickle.dump(rmse, fp)\n"
      ],
      "execution_count": 0,
      "outputs": []
    },
    {
      "cell_type": "code",
      "metadata": {
        "id": "3AAXQ6zLN_wU",
        "colab_type": "code",
        "outputId": "590fc40e-9704-48c8-e846-11ac469a3f6d",
        "colab": {
          "base_uri": "https://localhost:8080/",
          "height": 248
        }
      },
      "source": [
        "# Class Imbalance Pie Chart:\n",
        "total = len(merge.axes[0])\n",
        "explode = (0, 0.1)\n",
        "sizes = [(label_0_rows/total*100),(label_1_rows/total*100)]\n",
        "fig1, ax1 = plt.subplots()\n",
        "ax1.pie(sizes, explode=explode, labels=labels, autopct='%1.1f%%',\n",
        "        shadow=True, startangle=90)\n",
        "ax1.axis('equal')  # Equal aspect ratio ensures that pie is drawn as a circle.\n",
        "\n",
        "plt.show()\n",
        "fig1.savefig(path + '/drive/My Drive/ML Project/class-imbalance-train-2.png')\n",
        "\n"
      ],
      "execution_count": 0,
      "outputs": [
        {
          "output_type": "display_data",
          "data": {
            "image/png": "[encoded data removed]",
            "text/plain": [
              "<Figure size 432x288 with 1 Axes>"
            ]
          },
          "metadata": {
            "tags": []
          }
        }
      ]
    },
    {
      "cell_type": "code",
      "metadata": {
        "id": "wpXNG05gJyV_",
        "colab_type": "code",
        "outputId": "6c7c939c-6e8d-49ad-9d91-68d5e2b2c7a0",
        "colab": {
          "base_uri": "https://localhost:8080/",
          "height": 34
        }
      },
      "source": [
        "# Depicting data distribution for Regression Testing:\n",
        "merge = pd.read_csv(path + \"/drive/My Drive/ML Project/Test.csv\")  \n",
        "f,a,b,c,d,e=0,0,0,0,0,0\n",
        "for i in merge['ArrDelayMinutes']:\n",
        "  if((i>=0)&(i<=15)):\n",
        "    f = f+1\n",
        "  elif ((i>15)&(i<=100)):\n",
        "    a = a + 1\n",
        "  elif((i>100)&(i<=200)):\n",
        "    b = b+1\n",
        "  elif((i>200)&(i<=500)):\n",
        "    c = c + 1\n",
        "  elif((i>500)&(i<=1000)):\n",
        "    d = d + 1\n",
        "  elif(i>1000):\n",
        "    e = e + 1\n",
        "print(a+b+c+d+e+f)"
      ],
      "execution_count": 0,
      "outputs": [
        {
          "output_type": "stream",
          "text": [
            "462859\n"
          ],
          "name": "stdout"
        }
      ]
    },
    {
      "cell_type": "code",
      "metadata": {
        "id": "hlaX5NV4LDU5",
        "colab_type": "code",
        "outputId": "2990da75-d9c3-4814-fc76-899f100ce533",
        "colab": {
          "base_uri": "https://localhost:8080/",
          "height": 465
        }
      },
      "source": [
        "labels = ['15-100', '100-200', '200-500', '500-1000', '1000+']\n",
        "cols = ['c','m','r','b','y']\n",
        "numbers = [a,b,c,d,e]\n",
        "plt.pie(numbers,m\n",
        "        labels=labels,\n",
        "        colors=cols,\n",
        "        startangle=90,\n",
        "        shadow= False,\n",
        "        explode=(0,0,0.1,0.3,0.5),\n",
        "        )\n",
        "plt.savefig(path + \"/drive/My Drive/ML Project/reg-test.png\")"
      ],
      "execution_count": 0,
      "outputs": [
        {
          "output_type": "display_data",
          "data": {
            "image/png": "[encoded data removed]",
            "text/plain": [
              "<Figure size 640x480 with 1 Axes>"
            ]
          },
          "metadata": {
            "tags": []
          }
        }
      ]
    }
  ]
}